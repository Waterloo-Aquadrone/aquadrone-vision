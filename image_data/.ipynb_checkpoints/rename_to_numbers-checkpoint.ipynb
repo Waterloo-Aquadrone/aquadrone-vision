{
 "cells": [
  {
   "cell_type": "code",
   "execution_count": 47,
   "metadata": {},
   "outputs": [],
   "source": [
    "import os, glob"
   ]
  },
  {
   "cell_type": "code",
   "execution_count": 73,
   "metadata": {},
   "outputs": [
    {
     "name": "stdout",
     "output_type": "stream",
     "text": [
      " 1119_images_final\t\t\t      obj.data\r\n",
      " 1119_images_final_copy\t\t\t      obj.names\r\n",
      " 1119_images_final_test2\t\t      obj_not_in_order\r\n",
      " 1200_images_combined\t\t\t      remove_aug_valid.ipynb\r\n",
      " 1200_images_renamed_final\t\t      remove_every_other_frame.ipynb\r\n",
      " aug_1119_images_final_test\t\t      rename_files.ipynb\r\n",
      " aug_1119_images_final_test_copy\t      rename_to_numbers.ipynb\r\n",
      " augment.ipynb\t\t\t\t      split_video.ipynb\r\n",
      " augmented.csv\t\t\t\t      test.txt\r\n",
      " final_labels_skipped_104_total_1119.csv      test_labels.csv\r\n",
      " images\t\t\t\t\t      train.txt\r\n",
      " images_exclude_safe\t\t\t      train_test_txt.ipynb\r\n",
      " images_removed_every_other_frame_1000_safe   train_valid\r\n",
      " labels.csv\t\t\t\t     'video src'\r\n",
      " load_csv_remove_skipped_files_test.ipynb     yolo_labels\r\n",
      " obj\r\n"
     ]
    }
   ],
   "source": [
    "!ls"
   ]
  },
  {
   "cell_type": "code",
   "execution_count": 116,
   "metadata": {},
   "outputs": [
    {
     "name": "stdout",
     "output_type": "stream",
     "text": [
      "1009\n",
      "['aug_gate_128.txt', 'aug_gate_129.txt', 'aug_gate_130.txt', 'aug_gate_131.txt', 'aug_gate_132.txt', 'aug_gate_133.txt', 'aug_gate_134.txt', 'aug_gate_137.txt', 'aug_gate_144.txt', 'aug_gate_145.txt', 'aug_gate_146.txt', 'aug_gate_147.txt', 'aug_gate_148.txt', 'aug_gate_149.txt', 'aug_gate_150.txt', 'aug_gate_151.txt', 'aug_gate_152.txt', 'aug_gate_153.txt', 'aug_gate_154.txt', 'aug_gate_155.txt', 'aug_gate_156.txt', 'aug_gate_157.txt', 'aug_gate_158.txt', 'aug_gate_159.txt', 'aug_gate_160.txt', 'aug_gate_161.txt', 'aug_gate_162.txt', 'aug_gate_163.txt', 'aug_gate_164.txt', 'aug_gate_165.txt', 'aug_gate_166.txt', 'aug_gate_167.txt', 'aug_gate_168.txt', 'aug_gate_169.txt', 'aug_gate_170.txt', 'aug_gate_171.txt', 'aug_gate_172.txt', 'aug_gate_173.txt', 'aug_gate_174.txt', 'aug_gate_175.txt', 'aug_gate_176.txt', 'aug_gate_177.txt', 'aug_gate_178.txt', 'aug_gate_179.txt', 'aug_gate_180.txt', 'aug_gate_181.txt', 'aug_gate_182.txt', 'aug_gate_183.txt', 'aug_gate_184.txt', 'aug_gate_185.txt', 'aug_gate_186.txt', 'aug_gate_187.txt', 'aug_gate_188.txt', 'aug_gate_189.txt', 'aug_gate_190.txt', 'aug_gate_191.txt', 'aug_gate_196.txt', 'aug_gate_197.txt', 'aug_gate_198.txt', 'aug_gate_200.txt', 'aug_gate_201.txt', 'aug_gate_202.txt', 'aug_gate_203.txt', 'aug_gate_204.txt', 'aug_gate_206.txt', 'aug_gate_207.txt', 'aug_gate_208.txt', 'aug_gate_209.txt', 'aug_gate_212.txt', 'aug_gate_215.txt', 'aug_gate_216.txt', 'aug_gate_217.txt', 'aug_gate_219.txt', 'aug_gate_220.txt', 'aug_gate_221.txt', 'aug_gate_222.txt', 'aug_gate_223.txt', 'aug_gate_224.txt', 'aug_gate_225.txt', 'aug_gate_226.txt', 'aug_gate_227.txt', 'aug_gate_228.txt', 'aug_gate_229.txt', 'aug_gate_232.txt', 'aug_gate_233.txt', 'aug_gate_234.txt', 'aug_gate_235.txt', 'aug_gate_237.txt', 'aug_gate_238.txt', 'aug_gate_239.txt', 'aug_gate_240.txt', 'aug_gate_241.txt', 'aug_gate_243.txt', 'aug_gate_245.txt', 'aug_gate_246.txt', 'aug_gate_247.txt', 'aug_gate_248.txt', 'aug_gate_249.txt', 'aug_gate_250.txt', 'aug_gate_254.txt', 'aug_gate_255.txt', 'aug_gate_256.txt', 'aug_gate_257.txt', 'aug_gate_259.txt', 'aug_gate_263.txt', 'aug_gate_264.txt', 'aug_gate_265.txt', 'aug_gate_266.txt', 'aug_gate_267.txt', 'aug_gate_268.txt', 'aug_gate_275.txt', 'aug_gate_276.txt', 'aug_gate_277.txt', 'aug_gate_278.txt', 'aug_gate_279.txt', 'aug_gate_280.txt', 'aug_gate_281.txt', 'aug_gate_282.txt', 'aug_gate_283.txt', 'aug_gate_284.txt', 'aug_gate_285.txt', 'aug_gate_286.txt', 'aug_gate_287.txt', 'aug_gate_297.txt', 'aug_gate_298.txt', 'aug_gate_299.txt', 'aug_gate_300.txt', 'aug_gate_301.txt', 'aug_gate_302.txt', 'aug_gate_303.txt', 'aug_gate_304.txt', 'aug_gate_305.txt', 'aug_gate_306.txt', 'aug_gate_307.txt', 'aug_gate_308.txt', 'aug_gate_309.txt', 'aug_gate_310.txt', 'aug_gate_311.txt', 'aug_gate_313.txt', 'aug_gate_314.txt', 'aug_gate_315.txt', 'aug_gate_316.txt', 'aug_gate_317.txt', 'aug_gate_318.txt', 'aug_gate_319.txt', 'aug_gate_320.txt', 'aug_gate_321.txt', 'aug_gate_322.txt', 'aug_gate_323.txt', 'aug_gate_324.txt', 'aug_gate_325.txt', 'aug_gate_326.txt', 'aug_gate_327.txt', 'aug_gate_328.txt', 'aug_gate_329.txt', 'aug_gate_330.txt', 'aug_gate_331.txt', 'aug_gate_332.txt', 'aug_gate_333.txt', 'aug_gate_334.txt', 'aug_gate_335.txt', 'aug_gate_337.txt', 'aug_gate_340.txt', 'aug_gate_341.txt', 'aug_gate_342.txt', 'aug_gate_343.txt', 'aug_gate_344.txt', 'aug_gate_345.txt', 'aug_gate_346.txt', 'aug_gate_347.txt', 'aug_gate_348.txt', 'aug_gate_349.txt', 'aug_gate_360.txt', 'aug_gate_361.txt', 'aug_gate_362.txt', 'aug_gate_363.txt', 'aug_gate_364.txt', 'aug_gate_365.txt', 'aug_gate_366.txt', 'aug_gate_367.txt', 'aug_gate_368.txt', 'aug_gate_369.txt', 'aug_gate_370.txt', 'aug_gate_371.txt', 'aug_gate_372.txt', 'aug_gate_373.txt', 'aug_gate_374.txt', 'aug_gate_375.txt', 'aug_gate_376.txt', 'aug_gate_377.txt', 'aug_gate_378.txt', 'aug_gate_379.txt', 'aug_gate_380.txt', 'aug_gate_381.txt', 'aug_gate_382.txt', 'aug_gate_383.txt', 'aug_gate_384.txt', 'aug_gate_385.txt', 'aug_gate_386.txt', 'aug_gate_387.txt', 'aug_gate_388.txt', 'aug_gate_389.txt', 'aug_gate_390.txt', 'aug_gate_391.txt', 'aug_gate_392.txt', 'aug_gate_393.txt', 'aug_gate_394.txt', 'aug_gate_395.txt', 'aug_gate_396.txt', 'aug_gate_397.txt', 'aug_gate_398.txt', 'aug_gate_399.txt', 'aug_gate_400.txt', 'aug_gate_401.txt', 'aug_gate_402.txt', 'aug_gate_403.txt', 'aug_gate_404.txt', 'aug_gate_405.txt', 'aug_gate_406.txt', 'aug_gate_407.txt', 'aug_gate_408.txt', 'aug_gate_409.txt', 'aug_gate_410.txt', 'aug_gate_411.txt', 'aug_gate_412.txt', 'aug_gate_413.txt', 'aug_gate_414.txt', 'aug_gate_415.txt', 'aug_gate_416.txt', 'aug_gate_417.txt', 'aug_gate_418.txt', 'aug_gate_419.txt', 'aug_gate_420.txt', 'aug_gate_421.txt', 'aug_gate_422.txt', 'aug_gate_423.txt', 'aug_gate_424.txt', 'aug_gate_425.txt', 'aug_gate_426.txt', 'aug_gate_427.txt', 'aug_gate_428.txt', 'aug_gate_429.txt', 'aug_gate_430.txt', 'aug_gate_431.txt', 'aug_gate_432.txt', 'aug_gate_433.txt', 'aug_gate_434.txt', 'aug_gate_435.txt', 'aug_gate_436.txt', 'aug_gate_437.txt', 'aug_gate_438.txt', 'aug_gate_439.txt', 'aug_gate_440.txt', 'aug_gate_441.txt', 'aug_gate_442.txt', 'aug_gate_443.txt', 'aug_gate_444.txt', 'aug_gate_445.txt', 'aug_gate_446.txt', 'aug_gate_447.txt', 'aug_gate_448.txt', 'aug_gate_449.txt', 'aug_gate_450.txt', 'aug_gate_451.txt', 'aug_gate_452.txt', 'aug_gate_453.txt', 'aug_gate_454.txt', 'aug_gate_455.txt', 'aug_gate_456.txt', 'aug_gate_457.txt', 'aug_gate_458.txt', 'aug_gate_459.txt', 'aug_gate_460.txt', 'aug_gate_461.txt', 'aug_gate_462.txt', 'aug_gate_463.txt', 'aug_gate_464.txt', 'aug_gate_466.txt', 'aug_gate_468.txt', 'aug_gate_470.txt', 'aug_gate_472.txt', 'aug_gate_473.txt', 'aug_gate_475.txt', 'aug_gate_476.txt', 'aug_gate_477.txt', 'aug_gate_478.txt', 'aug_gate_479.txt', 'aug_gate_480.txt', 'aug_gate_481.txt', 'aug_gate_482.txt', 'aug_gate_483.txt', 'aug_gate_484.txt', 'aug_gate_485.txt', 'aug_gate_486.txt', 'aug_gate_487.txt', 'aug_gate_488.txt', 'aug_gate_489.txt', 'aug_gate_490.txt', 'aug_gate_491.txt', 'aug_gate_492.txt', 'aug_gate_493.txt', 'aug_gate_494.txt', 'aug_gate_495.txt', 'aug_gate_496.txt', 'aug_gate_497.txt', 'aug_gate_path_0.txt', 'aug_gate_path_1.txt', 'aug_gate_path_10.txt', 'aug_gate_path_11.txt', 'aug_gate_path_12.txt', 'aug_gate_path_13.txt', 'aug_gate_path_14.txt', 'aug_gate_path_15.txt', 'aug_gate_path_16.txt', 'aug_gate_path_17.txt', 'aug_gate_path_18.txt', 'aug_gate_path_19.txt', 'aug_gate_path_2.txt', 'aug_gate_path_20.txt', 'aug_gate_path_21.txt', 'aug_gate_path_22.txt', 'aug_gate_path_23.txt', 'aug_gate_path_24.txt', 'aug_gate_path_25.txt', 'aug_gate_path_26.txt', 'aug_gate_path_27.txt', 'aug_gate_path_28.txt', 'aug_gate_path_29.txt', 'aug_gate_path_3.txt', 'aug_gate_path_30.txt', 'aug_gate_path_31.txt', 'aug_gate_path_32.txt', 'aug_gate_path_33.txt', 'aug_gate_path_34.txt', 'aug_gate_path_35.txt', 'aug_gate_path_36.txt', 'aug_gate_path_37.txt', 'aug_gate_path_38.txt', 'aug_gate_path_39.txt', 'aug_gate_path_4.txt', 'aug_gate_path_40.txt', 'aug_gate_path_41.txt', 'aug_gate_path_42.txt', 'aug_gate_path_43.txt', 'aug_gate_path_44.txt', 'aug_gate_path_45.txt', 'aug_gate_path_46.txt', 'aug_gate_path_47.txt', 'aug_gate_path_48.txt', 'aug_gate_path_49.txt', 'aug_gate_path_5.txt', 'aug_gate_path_50.txt', 'aug_gate_path_51.txt', 'aug_gate_path_52.txt', 'aug_gate_path_53.txt', 'aug_gate_path_54.txt', 'aug_gate_path_55.txt', 'aug_gate_path_56.txt', 'aug_gate_path_57.txt', 'aug_gate_path_58.txt', 'aug_gate_path_59.txt', 'aug_gate_path_6.txt', 'aug_gate_path_60.txt', 'aug_gate_path_61.txt', 'aug_gate_path_62.txt', 'aug_gate_path_7.txt', 'aug_gate_path_8.txt', 'aug_gate_path_9.txt', 'aug_path_0.txt', 'aug_path_1.txt', 'aug_path_10.txt', 'aug_path_100.txt', 'aug_path_101.txt', 'aug_path_102.txt', 'aug_path_103.txt', 'aug_path_104.txt', 'aug_path_105.txt', 'aug_path_106.txt', 'aug_path_107.txt', 'aug_path_108.txt', 'aug_path_109.txt', 'aug_path_11.txt', 'aug_path_110.txt', 'aug_path_111.txt', 'aug_path_112.txt', 'aug_path_113.txt', 'aug_path_114.txt', 'aug_path_115.txt', 'aug_path_116.txt', 'aug_path_117.txt', 'aug_path_118.txt', 'aug_path_119.txt', 'aug_path_12.txt', 'aug_path_120.txt', 'aug_path_121.txt', 'aug_path_122.txt', 'aug_path_123.txt', 'aug_path_124.txt', 'aug_path_125.txt', 'aug_path_126.txt', 'aug_path_127.txt', 'aug_path_128.txt', 'aug_path_129.txt', 'aug_path_13.txt', 'aug_path_130.txt', 'aug_path_131.txt', 'aug_path_132.txt', 'aug_path_133.txt', 'aug_path_134.txt', 'aug_path_135.txt', 'aug_path_136.txt', 'aug_path_137.txt', 'aug_path_138.txt', 'aug_path_139.txt', 'aug_path_14.txt', 'aug_path_140.txt', 'aug_path_141.txt', 'aug_path_142.txt', 'aug_path_143.txt', 'aug_path_144.txt', 'aug_path_145.txt', 'aug_path_146.txt', 'aug_path_147.txt', 'aug_path_148.txt', 'aug_path_149.txt', 'aug_path_15.txt', 'aug_path_150.txt', 'aug_path_151.txt', 'aug_path_152.txt', 'aug_path_153.txt', 'aug_path_154.txt', 'aug_path_155.txt', 'aug_path_156.txt', 'aug_path_157.txt', 'aug_path_158.txt', 'aug_path_159.txt', 'aug_path_16.txt', 'aug_path_160.txt', 'aug_path_161.txt', 'aug_path_162.txt', 'aug_path_163.txt', 'aug_path_164.txt', 'aug_path_165.txt', 'aug_path_166.txt', 'aug_path_167.txt', 'aug_path_168.txt', 'aug_path_169.txt', 'aug_path_17.txt', 'aug_path_170.txt', 'aug_path_171.txt', 'aug_path_172.txt', 'aug_path_173.txt', 'aug_path_174.txt', 'aug_path_175.txt', 'aug_path_176.txt', 'aug_path_177.txt', 'aug_path_178.txt', 'aug_path_179.txt', 'aug_path_18.txt', 'aug_path_180.txt', 'aug_path_181.txt', 'aug_path_182.txt', 'aug_path_183.txt', 'aug_path_184.txt', 'aug_path_185.txt', 'aug_path_186.txt', 'aug_path_187.txt', 'aug_path_188.txt', 'aug_path_189.txt', 'aug_path_19.txt', 'aug_path_190.txt', 'aug_path_191.txt', 'aug_path_192.txt', 'aug_path_193.txt', 'aug_path_194.txt', 'aug_path_195.txt', 'aug_path_196.txt', 'aug_path_197.txt', 'aug_path_198.txt', 'aug_path_199.txt', 'aug_path_2.txt', 'aug_path_20.txt', 'aug_path_200.txt', 'aug_path_201.txt', 'aug_path_202.txt', 'aug_path_203.txt', 'aug_path_204.txt', 'aug_path_205.txt', 'aug_path_206.txt', 'aug_path_207.txt', 'aug_path_208.txt', 'aug_path_209.txt', 'aug_path_21.txt', 'aug_path_210.txt', 'aug_path_211.txt', 'aug_path_212.txt', 'aug_path_213.txt', 'aug_path_214.txt', 'aug_path_215.txt', 'aug_path_216.txt', 'aug_path_217.txt', 'aug_path_218.txt', 'aug_path_219.txt', 'aug_path_22.txt', 'aug_path_220.txt', 'aug_path_221.txt', 'aug_path_222.txt', 'aug_path_223.txt', 'aug_path_224.txt', 'aug_path_225.txt', 'aug_path_226.txt', 'aug_path_227.txt', 'aug_path_228.txt', 'aug_path_229.txt', 'aug_path_23.txt', 'aug_path_230.txt', 'aug_path_231.txt', 'aug_path_232.txt', 'aug_path_233.txt', 'aug_path_234.txt', 'aug_path_235.txt', 'aug_path_236.txt', 'aug_path_237.txt', 'aug_path_238.txt', 'aug_path_239.txt', 'aug_path_24.txt', 'aug_path_240.txt', 'aug_path_241.txt', 'aug_path_242.txt', 'aug_path_243.txt', 'aug_path_244.txt', 'aug_path_245.txt', 'aug_path_246.txt', 'aug_path_247.txt', 'aug_path_248.txt', 'aug_path_249.txt', 'aug_path_25.txt', 'aug_path_250.txt', 'aug_path_251.txt', 'aug_path_252.txt', 'aug_path_253.txt', 'aug_path_254.txt', 'aug_path_255.txt', 'aug_path_256.txt', 'aug_path_257.txt', 'aug_path_258.txt', 'aug_path_259.txt', 'aug_path_26.txt', 'aug_path_260.txt', 'aug_path_261.txt', 'aug_path_262.txt', 'aug_path_263.txt', 'aug_path_264.txt', 'aug_path_265.txt', 'aug_path_266.txt', 'aug_path_267.txt', 'aug_path_268.txt', 'aug_path_269.txt', 'aug_path_27.txt', 'aug_path_270.txt', 'aug_path_271.txt', 'aug_path_272.txt', 'aug_path_273.txt', 'aug_path_274.txt', 'aug_path_275.txt', 'aug_path_276.txt', 'aug_path_277.txt', 'aug_path_278.txt', 'aug_path_279.txt', 'aug_path_28.txt', 'aug_path_280.txt', 'aug_path_281.txt', 'aug_path_282.txt', 'aug_path_283.txt', 'aug_path_284.txt', 'aug_path_285.txt', 'aug_path_286.txt', 'aug_path_287.txt', 'aug_path_288.txt', 'aug_path_289.txt', 'aug_path_29.txt', 'aug_path_290.txt', 'aug_path_291.txt', 'aug_path_292.txt', 'aug_path_293.txt', 'aug_path_294.txt', 'aug_path_295.txt', 'aug_path_296.txt', 'aug_path_297.txt', 'aug_path_298.txt', 'aug_path_299.txt', 'aug_path_3.txt', 'aug_path_30.txt', 'aug_path_300.txt', 'aug_path_301.txt', 'aug_path_302.txt', 'aug_path_303.txt', 'aug_path_304.txt', 'aug_path_305.txt', 'aug_path_306.txt', 'aug_path_307.txt', 'aug_path_308.txt', 'aug_path_309.txt', 'aug_path_31.txt', 'aug_path_310.txt', 'aug_path_311.txt', 'aug_path_312.txt', 'aug_path_313.txt', 'aug_path_314.txt', 'aug_path_315.txt', 'aug_path_316.txt', 'aug_path_317.txt', 'aug_path_318.txt', 'aug_path_319.txt', 'aug_path_32.txt', 'aug_path_320.txt', 'aug_path_321.txt', 'aug_path_322.txt', 'aug_path_323.txt', 'aug_path_324.txt', 'aug_path_325.txt', 'aug_path_326.txt', 'aug_path_327.txt', 'aug_path_328.txt', 'aug_path_329.txt', 'aug_path_33.txt', 'aug_path_330.txt', 'aug_path_331.txt', 'aug_path_332.txt', 'aug_path_333.txt', 'aug_path_334.txt', 'aug_path_335.txt', 'aug_path_336.txt', 'aug_path_337.txt', 'aug_path_338.txt', 'aug_path_339.txt', 'aug_path_34.txt', 'aug_path_340.txt', 'aug_path_341.txt', 'aug_path_342.txt', 'aug_path_343.txt', 'aug_path_344.txt', 'aug_path_345.txt', 'aug_path_346.txt', 'aug_path_347.txt', 'aug_path_348.txt', 'aug_path_349.txt', 'aug_path_35.txt', 'aug_path_350.txt', 'aug_path_351.txt', 'aug_path_352.txt', 'aug_path_353.txt', 'aug_path_354.txt', 'aug_path_355.txt', 'aug_path_356.txt', 'aug_path_357.txt', 'aug_path_358.txt', 'aug_path_359.txt', 'aug_path_36.txt', 'aug_path_360.txt', 'aug_path_361.txt', 'aug_path_362.txt', 'aug_path_363.txt', 'aug_path_364.txt', 'aug_path_365.txt', 'aug_path_366.txt', 'aug_path_367.txt', 'aug_path_368.txt', 'aug_path_369.txt', 'aug_path_37.txt', 'aug_path_370.txt', 'aug_path_371.txt', 'aug_path_372.txt', 'aug_path_373.txt', 'aug_path_374.txt', 'aug_path_375.txt', 'aug_path_376.txt', 'aug_path_377.txt', 'aug_path_378.txt', 'aug_path_379.txt', 'aug_path_38.txt', 'aug_path_380.txt', 'aug_path_381.txt', 'aug_path_382.txt', 'aug_path_383.txt', 'aug_path_384.txt', 'aug_path_385.txt', 'aug_path_386.txt', 'aug_path_387.txt', 'aug_path_388.txt', 'aug_path_389.txt', 'aug_path_39.txt', 'aug_path_390.txt', 'aug_path_391.txt', 'aug_path_392.txt', 'aug_path_393.txt', 'aug_path_394.txt', 'aug_path_395.txt', 'aug_path_396.txt', 'aug_path_397.txt', 'aug_path_398.txt', 'aug_path_399.txt', 'aug_path_4.txt', 'aug_path_40.txt', 'aug_path_400.txt', 'aug_path_401.txt', 'aug_path_402.txt', 'aug_path_403.txt', 'aug_path_404.txt', 'aug_path_405.txt', 'aug_path_406.txt', 'aug_path_407.txt', 'aug_path_408.txt', 'aug_path_409.txt', 'aug_path_41.txt', 'aug_path_410.txt', 'aug_path_411.txt', 'aug_path_412.txt', 'aug_path_413.txt', 'aug_path_414.txt', 'aug_path_415.txt', 'aug_path_416.txt', 'aug_path_417.txt', 'aug_path_418.txt', 'aug_path_419.txt', 'aug_path_42.txt', 'aug_path_420.txt', 'aug_path_421.txt', 'aug_path_422.txt', 'aug_path_423.txt', 'aug_path_424.txt', 'aug_path_425.txt', 'aug_path_426.txt', 'aug_path_427.txt', 'aug_path_428.txt', 'aug_path_429.txt', 'aug_path_43.txt', 'aug_path_430.txt', 'aug_path_431.txt', 'aug_path_432.txt', 'aug_path_433.txt', 'aug_path_434.txt', 'aug_path_435.txt', 'aug_path_436.txt', 'aug_path_437.txt', 'aug_path_438.txt', 'aug_path_439.txt', 'aug_path_44.txt', 'aug_path_440.txt', 'aug_path_441.txt', 'aug_path_442.txt', 'aug_path_443.txt', 'aug_path_444.txt', 'aug_path_445.txt', 'aug_path_446.txt', 'aug_path_447.txt', 'aug_path_448.txt', 'aug_path_449.txt', 'aug_path_45.txt', 'aug_path_450.txt', 'aug_path_451.txt', 'aug_path_452.txt', 'aug_path_453.txt', 'aug_path_454.txt', 'aug_path_455.txt', 'aug_path_456.txt', 'aug_path_457.txt', 'aug_path_458.txt', 'aug_path_459.txt', 'aug_path_46.txt', 'aug_path_460.txt', 'aug_path_461.txt', 'aug_path_462.txt', 'aug_path_463.txt', 'aug_path_464.txt', 'aug_path_465.txt', 'aug_path_466.txt', 'aug_path_467.txt', 'aug_path_468.txt', 'aug_path_469.txt', 'aug_path_47.txt', 'aug_path_470.txt', 'aug_path_471.txt', 'aug_path_472.txt', 'aug_path_473.txt', 'aug_path_474.txt', 'aug_path_475.txt', 'aug_path_476.txt', 'aug_path_477.txt', 'aug_path_478.txt', 'aug_path_479.txt', 'aug_path_48.txt', 'aug_path_480.txt', 'aug_path_482.txt', 'aug_path_483.txt', 'aug_path_484.txt', 'aug_path_485.txt', 'aug_path_487.txt', 'aug_path_488.txt', 'aug_path_489.txt', 'aug_path_49.txt', 'aug_path_490.txt', 'aug_path_491.txt', 'aug_path_492.txt', 'aug_path_493.txt', 'aug_path_494.txt', 'aug_path_495.txt', 'aug_path_496.txt', 'aug_path_497.txt', 'aug_path_498.txt', 'aug_path_499.txt', 'aug_path_5.txt', 'aug_path_50.txt', 'aug_path_500.txt', 'aug_path_501.txt', 'aug_path_502.txt', 'aug_path_503.txt', 'aug_path_504.txt', 'aug_path_505.txt', 'aug_path_506.txt', 'aug_path_507.txt', 'aug_path_508.txt', 'aug_path_509.txt', 'aug_path_51.txt', 'aug_path_510.txt', 'aug_path_511.txt', 'aug_path_512.txt', 'aug_path_513.txt', 'aug_path_514.txt', 'aug_path_515.txt', 'aug_path_516.txt', 'aug_path_517.txt', 'aug_path_518.txt', 'aug_path_519.txt', 'aug_path_52.txt', 'aug_path_520.txt', 'aug_path_521.txt', 'aug_path_522.txt', 'aug_path_523.txt', 'aug_path_524.txt', 'aug_path_525.txt', 'aug_path_526.txt', 'aug_path_527.txt', 'aug_path_528.txt', 'aug_path_529.txt', 'aug_path_53.txt', 'aug_path_530.txt', 'aug_path_531.txt', 'aug_path_532.txt', 'aug_path_533.txt', 'aug_path_534.txt', 'aug_path_535.txt', 'aug_path_536.txt', 'aug_path_537.txt', 'aug_path_538.txt', 'aug_path_539.txt', 'aug_path_54.txt', 'aug_path_540.txt', 'aug_path_541.txt', 'aug_path_542.txt', 'aug_path_543.txt', 'aug_path_544.txt', 'aug_path_545.txt', 'aug_path_546.txt', 'aug_path_547.txt', 'aug_path_548.txt', 'aug_path_549.txt', 'aug_path_55.txt', 'aug_path_550.txt', 'aug_path_551.txt', 'aug_path_552.txt', 'aug_path_553.txt', 'aug_path_554.txt', 'aug_path_555.txt', 'aug_path_556.txt', 'aug_path_557.txt', 'aug_path_558.txt', 'aug_path_559.txt', 'aug_path_56.txt', 'aug_path_560.txt', 'aug_path_561.txt', 'aug_path_562.txt', 'aug_path_563.txt', 'aug_path_564.txt', 'aug_path_565.txt', 'aug_path_566.txt', 'aug_path_567.txt', 'aug_path_568.txt', 'aug_path_569.txt', 'aug_path_57.txt', 'aug_path_570.txt', 'aug_path_571.txt', 'aug_path_572.txt', 'aug_path_573.txt', 'aug_path_574.txt', 'aug_path_575.txt', 'aug_path_576.txt', 'aug_path_577.txt', 'aug_path_578.txt', 'aug_path_579.txt', 'aug_path_58.txt', 'aug_path_580.txt', 'aug_path_581.txt', 'aug_path_582.txt', 'aug_path_583.txt', 'aug_path_584.txt', 'aug_path_585.txt', 'aug_path_586.txt', 'aug_path_587.txt', 'aug_path_588.txt', 'aug_path_589.txt', 'aug_path_59.txt', 'aug_path_590.txt', 'aug_path_591.txt', 'aug_path_592.txt', 'aug_path_593.txt', 'aug_path_594.txt', 'aug_path_595.txt', 'aug_path_596.txt', 'aug_path_597.txt', 'aug_path_598.txt', 'aug_path_599.txt', 'aug_path_6.txt', 'aug_path_60.txt', 'aug_path_600.txt', 'aug_path_601.txt', 'aug_path_602.txt', 'aug_path_603.txt', 'aug_path_604.txt', 'aug_path_605.txt', 'aug_path_606.txt', 'aug_path_607.txt', 'aug_path_608.txt', 'aug_path_609.txt', 'aug_path_61.txt', 'aug_path_610.txt', 'aug_path_611.txt', 'aug_path_612.txt', 'aug_path_613.txt', 'aug_path_614.txt', 'aug_path_615.txt', 'aug_path_616.txt', 'aug_path_617.txt', 'aug_path_618.txt', 'aug_path_619.txt', 'aug_path_62.txt', 'aug_path_620.txt', 'aug_path_621.txt', 'aug_path_622.txt', 'aug_path_623.txt', 'aug_path_624.txt', 'aug_path_625.txt', 'aug_path_626.txt', 'aug_path_627.txt', 'aug_path_628.txt', 'aug_path_629.txt', 'aug_path_63.txt', 'aug_path_630.txt', 'aug_path_631.txt', 'aug_path_632.txt', 'aug_path_633.txt', 'aug_path_634.txt', 'aug_path_635.txt', 'aug_path_636.txt', 'aug_path_637.txt', 'aug_path_638.txt', 'aug_path_639.txt', 'aug_path_64.txt', 'aug_path_640.txt', 'aug_path_641.txt', 'aug_path_642.txt', 'aug_path_65.txt', 'aug_path_66.txt', 'aug_path_67.txt', 'aug_path_68.txt', 'aug_path_69.txt', 'aug_path_7.txt', 'aug_path_70.txt', 'aug_path_71.txt', 'aug_path_72.txt', 'aug_path_73.txt', 'aug_path_74.txt', 'aug_path_75.txt', 'aug_path_76.txt', 'aug_path_77.txt', 'aug_path_78.txt', 'aug_path_79.txt', 'aug_path_8.txt', 'aug_path_80.txt', 'aug_path_81.txt', 'aug_path_82.txt', 'aug_path_83.txt', 'aug_path_84.txt', 'aug_path_85.txt', 'aug_path_86.txt', 'aug_path_87.txt', 'aug_path_88.txt', 'aug_path_89.txt', 'aug_path_9.txt', 'aug_path_90.txt', 'aug_path_91.txt', 'aug_path_92.txt', 'aug_path_93.txt', 'aug_path_94.txt', 'aug_path_95.txt', 'aug_path_96.txt', 'aug_path_97.txt', 'aug_path_98.txt', 'aug_path_99.txt']\n"
     ]
    }
   ],
   "source": [
    "dir_path = \"aug_1119_images_final_test/val_removed_labels_renamed\"\n",
    "# dir_path = \"train_valid/valid\"\n",
    "# dir_path = \"train_valid/train_real\"\n",
    "# dir_path = \"train_valid/aug\"\n",
    "# dir_path = \"train_valid/test\"\n",
    "# dir_path = \"obj\"\n",
    "\n",
    "img_list = os.listdir(dir_path)\n",
    "# img_list.pop(0)\n",
    "# img_list.pop(0)\n",
    "print(len(img_list))\n",
    "print(img_list)"
   ]
  },
  {
   "cell_type": "code",
   "execution_count": 119,
   "metadata": {
    "scrolled": true
   },
   "outputs": [
    {
     "name": "stdout",
     "output_type": "stream",
     "text": [
      "1009\n"
     ]
    }
   ],
   "source": [
    "img_list.remove(\"desktop.ini\")\n",
    "print(len(img_list))"
   ]
  },
  {
   "cell_type": "code",
   "execution_count": 118,
   "metadata": {},
   "outputs": [
    {
     "data": {
      "text/plain": [
       "('aug_gate_130', '.txt')"
      ]
     },
     "execution_count": 118,
     "metadata": {},
     "output_type": "execute_result"
    }
   ],
   "source": [
    "os.path.splitext(img_list[2])"
   ]
  },
  {
   "cell_type": "code",
   "execution_count": 110,
   "metadata": {},
   "outputs": [],
   "source": [
    "dir_path = \"train_valid/aug_train_renamed\"\n",
    "for i in range(2020, 2020 + len(img_list), 2):\n",
    "#     img_path = os.path.join(dir_path, img_list[i - 2020])\n",
    "    txt_path = os.path.join(dir_path, img_list[i+1 - 2020])\n",
    "#     os.rename(img_path, os.path.join(dir_path, '{:06}.jpg'.format(i//2)))\n",
    "    os.rename(txt_path, os.path.join(dir_path, '{:06}.txt'.format(i//2)))"
   ]
  },
  {
   "cell_type": "code",
   "execution_count": 115,
   "metadata": {},
   "outputs": [
    {
     "ename": "FileNotFoundError",
     "evalue": "[Errno 2] No such file or directory: 'aug_1119_images_final_test/val_removed_labels_renamed/001010.jpg' -> 'aug_1119_images_final_test/val_removed_labels_renamed/001010.txt'",
     "output_type": "error",
     "traceback": [
      "\u001b[0;31m---------------------------------------------------------------------------\u001b[0m",
      "\u001b[0;31mFileNotFoundError\u001b[0m                         Traceback (most recent call last)",
      "\u001b[0;32m<ipython-input-115-e2df12be82ab>\u001b[0m in \u001b[0;36m<module>\u001b[0;34m\u001b[0m\n\u001b[1;32m      4\u001b[0m     \u001b[0mtxt_path\u001b[0m \u001b[0;34m=\u001b[0m \u001b[0mos\u001b[0m\u001b[0;34m.\u001b[0m\u001b[0mpath\u001b[0m\u001b[0;34m.\u001b[0m\u001b[0mjoin\u001b[0m\u001b[0;34m(\u001b[0m\u001b[0mdir_path\u001b[0m\u001b[0;34m,\u001b[0m \u001b[0mimg_list\u001b[0m\u001b[0;34m[\u001b[0m\u001b[0mi\u001b[0m \u001b[0;34m-\u001b[0m \u001b[0;36m1010\u001b[0m\u001b[0;34m]\u001b[0m\u001b[0;34m)\u001b[0m\u001b[0;34m\u001b[0m\u001b[0;34m\u001b[0m\u001b[0m\n\u001b[1;32m      5\u001b[0m \u001b[0;31m#     os.rename(img_path, os.path.join(dir_path, '{:06}.jpg'.format(i//2)))\u001b[0m\u001b[0;34m\u001b[0m\u001b[0;34m\u001b[0m\u001b[0;34m\u001b[0m\u001b[0m\n\u001b[0;32m----> 6\u001b[0;31m     \u001b[0mos\u001b[0m\u001b[0;34m.\u001b[0m\u001b[0mrename\u001b[0m\u001b[0;34m(\u001b[0m\u001b[0mtxt_path\u001b[0m\u001b[0;34m,\u001b[0m \u001b[0mos\u001b[0m\u001b[0;34m.\u001b[0m\u001b[0mpath\u001b[0m\u001b[0;34m.\u001b[0m\u001b[0mjoin\u001b[0m\u001b[0;34m(\u001b[0m\u001b[0mdir_path\u001b[0m\u001b[0;34m,\u001b[0m \u001b[0;34m'{:06}.txt'\u001b[0m\u001b[0;34m.\u001b[0m\u001b[0mformat\u001b[0m\u001b[0;34m(\u001b[0m\u001b[0mi\u001b[0m\u001b[0;34m)\u001b[0m\u001b[0;34m)\u001b[0m\u001b[0;34m)\u001b[0m\u001b[0;34m\u001b[0m\u001b[0;34m\u001b[0m\u001b[0m\n\u001b[0m",
      "\u001b[0;31mFileNotFoundError\u001b[0m: [Errno 2] No such file or directory: 'aug_1119_images_final_test/val_removed_labels_renamed/001010.jpg' -> 'aug_1119_images_final_test/val_removed_labels_renamed/001010.txt'"
     ]
    }
   ],
   "source": [
    "dir_path = \"aug_1119_images_final_test/val_removed_labels_renamed\"\n",
    "for i in range(1010, len(img_list)+1010):\n",
    "#     img_path = os.path.join(dir_path, img_list[i - 2020])\n",
    "    txt_path = os.path.join(dir_path, img_list[i - 1010])\n",
    "#     os.rename(img_path, os.path.join(dir_path, '{:06}.jpg'.format(i//2)))\n",
    "    os.rename(txt_path, os.path.join(dir_path, '{:06}.txt'.format(i)))"
   ]
  },
  {
   "cell_type": "code",
   "execution_count": null,
   "metadata": {},
   "outputs": [],
   "source": []
  }
 ],
 "metadata": {
  "kernelspec": {
   "display_name": "Python [conda env:tensorflow]",
   "language": "python",
   "name": "conda-env-tensorflow-py"
  },
  "language_info": {
   "codemirror_mode": {
    "name": "ipython",
    "version": 3
   },
   "file_extension": ".py",
   "mimetype": "text/x-python",
   "name": "python",
   "nbconvert_exporter": "python",
   "pygments_lexer": "ipython3",
   "version": "3.7.5"
  }
 },
 "nbformat": 4,
 "nbformat_minor": 2
}
