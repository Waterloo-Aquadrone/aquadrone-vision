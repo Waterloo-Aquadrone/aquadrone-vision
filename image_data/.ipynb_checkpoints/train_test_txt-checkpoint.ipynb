{
 "cells": [
  {
   "cell_type": "code",
   "execution_count": 3,
   "metadata": {},
   "outputs": [],
   "source": [
    "import os"
   ]
  },
  {
   "cell_type": "code",
   "execution_count": 4,
   "metadata": {},
   "outputs": [
    {
     "name": "stdout",
     "output_type": "stream",
     "text": [
      " 1119_images_final\t\t\t      obj.data\r\n",
      " 1119_images_final_copy\t\t\t      obj.names\r\n",
      " 1119_images_final_test2\t\t      obj_not_in_order\r\n",
      " 1200_images_combined\t\t\t      remove_every_other_frame.ipynb\r\n",
      " 1200_images_renamed_final\t\t      remove_valid.ipynb\r\n",
      " aug_1119_images_final_test\t\t      rename_files.ipynb\r\n",
      " aug_1119_images_final_test_copy\t      rename_to_numbers.ipynb\r\n",
      " augment.ipynb\t\t\t\t      split_video.ipynb\r\n",
      " augmented.csv\t\t\t\t      test_labels.csv\r\n",
      " final_labels_skipped_104_total_1119.csv      train.txt\r\n",
      " images\t\t\t\t\t      train_test_txt.ipynb\r\n",
      " images_exclude_safe\t\t\t      train_valid\r\n",
      " images_removed_every_other_frame_1000_safe  'video src'\r\n",
      " labels.csv\t\t\t\t      yolo_labels\r\n",
      " load_csv_remove_skipped_files_test.ipynb     yolov3-tiny-obj.cfg\r\n",
      " obj\r\n"
     ]
    }
   ],
   "source": [
    "!ls"
   ]
  },
  {
   "cell_type": "code",
   "execution_count": 5,
   "metadata": {},
   "outputs": [
    {
     "data": {
      "text/plain": [
       "['desktop.ini',\n",
       " 'gate_0.jpg',\n",
       " 'gate_1.jpg',\n",
       " 'gate_100.jpg',\n",
       " 'gate_101.jpg',\n",
       " 'gate_102.jpg',\n",
       " 'gate_103.jpg',\n",
       " 'gate_104.jpg',\n",
       " 'gate_105.jpg',\n",
       " 'gate_106.jpg',\n",
       " 'gate_109.jpg',\n",
       " 'gate_11.jpg',\n",
       " 'gate_110.jpg',\n",
       " 'gate_111.jpg',\n",
       " 'gate_112.jpg',\n",
       " 'gate_113.jpg',\n",
       " 'gate_114.jpg',\n",
       " 'gate_115.jpg',\n",
       " 'gate_116.jpg',\n",
       " 'gate_117.jpg',\n",
       " 'gate_119.jpg',\n",
       " 'gate_12.jpg',\n",
       " 'gate_122.jpg',\n",
       " 'gate_125.jpg',\n",
       " 'gate_127.jpg',\n",
       " 'gate_13.jpg',\n",
       " 'gate_20.jpg',\n",
       " 'gate_23.jpg',\n",
       " 'gate_26.jpg',\n",
       " 'gate_3.jpg',\n",
       " 'gate_32.jpg',\n",
       " 'gate_36.jpg',\n",
       " 'gate_4.jpg',\n",
       " 'gate_40.jpg',\n",
       " 'gate_45.jpg',\n",
       " 'gate_46.jpg',\n",
       " 'gate_48.jpg',\n",
       " 'gate_49.jpg',\n",
       " 'gate_5.jpg',\n",
       " 'gate_50.jpg',\n",
       " 'gate_51.jpg',\n",
       " 'gate_52.jpg',\n",
       " 'gate_53.jpg',\n",
       " 'gate_55.jpg',\n",
       " 'gate_56.jpg',\n",
       " 'gate_57.jpg',\n",
       " 'gate_58.jpg',\n",
       " 'gate_6.jpg',\n",
       " 'gate_60.jpg',\n",
       " 'gate_61.jpg',\n",
       " 'gate_62.jpg',\n",
       " 'gate_63.jpg',\n",
       " 'gate_64.jpg',\n",
       " 'gate_65.jpg',\n",
       " 'gate_66.jpg',\n",
       " 'gate_67.jpg',\n",
       " 'gate_68.jpg',\n",
       " 'gate_69.jpg',\n",
       " 'gate_7.jpg',\n",
       " 'gate_70.jpg',\n",
       " 'gate_71.jpg',\n",
       " 'gate_72.jpg',\n",
       " 'gate_73.jpg',\n",
       " 'gate_74.jpg',\n",
       " 'gate_75.jpg',\n",
       " 'gate_76.jpg',\n",
       " 'gate_77.jpg',\n",
       " 'gate_78.jpg',\n",
       " 'gate_79.jpg',\n",
       " 'gate_8.jpg',\n",
       " 'gate_80.jpg',\n",
       " 'gate_81.jpg',\n",
       " 'gate_82.jpg',\n",
       " 'gate_83.jpg',\n",
       " 'gate_84.jpg',\n",
       " 'gate_85.jpg',\n",
       " 'gate_86.jpg',\n",
       " 'gate_87.jpg',\n",
       " 'gate_88.jpg',\n",
       " 'gate_89.jpg',\n",
       " 'gate_9.jpg',\n",
       " 'gate_90.jpg',\n",
       " 'gate_91.jpg',\n",
       " 'gate_92.jpg',\n",
       " 'gate_93.jpg',\n",
       " 'gate_94.jpg',\n",
       " 'gate_95.jpg',\n",
       " 'gate_96.jpg',\n",
       " 'gate_97.jpg',\n",
       " 'gate_98.jpg',\n",
       " 'gate_99.jpg',\n",
       " 'gate_path_63.jpg',\n",
       " 'gate_path_64.jpg',\n",
       " 'gate_path_65.jpg',\n",
       " 'gate_path_66.jpg',\n",
       " 'gate_path_67.jpg',\n",
       " 'gate_path_68.jpg',\n",
       " 'gate_path_69.jpg',\n",
       " 'gate_path_70.jpg',\n",
       " 'gate_path_71.jpg',\n",
       " 'path_643.jpg',\n",
       " 'path_644.jpg',\n",
       " 'path_645.jpg',\n",
       " 'path_646.jpg',\n",
       " 'path_647.jpg',\n",
       " 'path_648.jpg',\n",
       " 'path_649.jpg',\n",
       " 'path_650.jpg',\n",
       " 'path_651.jpg',\n",
       " 'path_652.jpg']"
      ]
     },
     "execution_count": 5,
     "metadata": {},
     "output_type": "execute_result"
    }
   ],
   "source": [
    "img_list = os.listdir(\"train_valid/valid_no_txt\")\n",
    "\n",
    "# num = int(os.path.splitext(img_list[x])[0].split('_', 1)[1])\n",
    "# print(num)\n",
    "# img_list_sorted = img_list.sort(key=lambda f: int(''.join(filter(str.isdigit, f))))\n",
    "# img_list\n",
    "img_list"
   ]
  },
  {
   "cell_type": "code",
   "execution_count": 6,
   "metadata": {},
   "outputs": [
    {
     "data": {
      "text/plain": [
       "110"
      ]
     },
     "execution_count": 6,
     "metadata": {},
     "output_type": "execute_result"
    }
   ],
   "source": [
    "len(img_list)"
   ]
  },
  {
   "cell_type": "code",
   "execution_count": 7,
   "metadata": {},
   "outputs": [],
   "source": [
    "img_list.remove(\"desktop.ini\")"
   ]
  },
  {
   "cell_type": "code",
   "execution_count": 8,
   "metadata": {},
   "outputs": [
    {
     "data": {
      "text/plain": [
       "109"
      ]
     },
     "execution_count": 8,
     "metadata": {},
     "output_type": "execute_result"
    }
   ],
   "source": [
    "len(img_list)"
   ]
  },
  {
   "cell_type": "code",
   "execution_count": 9,
   "metadata": {},
   "outputs": [],
   "source": [
    "text_file = open(\"test.txt\", \"w\")"
   ]
  },
  {
   "cell_type": "code",
   "execution_count": null,
   "metadata": {},
   "outputs": [],
   "source": [
    "# for i in range(len(img_list)):\n",
    "#     ext = os.path.splitext(img_list[i])[1]\n",
    "#     if ext == \".txt\":\n",
    "#         img_list.remove(img_list[i])\n",
    "# img_list"
   ]
  },
  {
   "cell_type": "code",
   "execution_count": null,
   "metadata": {},
   "outputs": [],
   "source": [
    "print(img_list)"
   ]
  },
  {
   "cell_type": "code",
   "execution_count": null,
   "metadata": {},
   "outputs": [],
   "source": [
    "len(img_list)"
   ]
  },
  {
   "cell_type": "code",
   "execution_count": null,
   "metadata": {},
   "outputs": [],
   "source": [
    "for img in img_list:\n",
    "    img_path = os.path.join(\"data/obj\", img) + \"\\n\"\n",
    "    text_file.write(img_path)"
   ]
  },
  {
   "cell_type": "code",
   "execution_count": null,
   "metadata": {},
   "outputs": [],
   "source": []
  }
 ],
 "metadata": {
  "kernelspec": {
   "display_name": "Python [conda env:tensorflow]",
   "language": "python",
   "name": "conda-env-tensorflow-py"
  },
  "language_info": {
   "codemirror_mode": {
    "name": "ipython",
    "version": 3
   },
   "file_extension": ".py",
   "mimetype": "text/x-python",
   "name": "python",
   "nbconvert_exporter": "python",
   "pygments_lexer": "ipython3",
   "version": "3.7.5"
  }
 },
 "nbformat": 4,
 "nbformat_minor": 2
}
