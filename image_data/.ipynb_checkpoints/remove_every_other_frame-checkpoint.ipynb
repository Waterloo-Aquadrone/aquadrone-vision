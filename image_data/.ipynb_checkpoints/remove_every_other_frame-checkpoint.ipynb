{
 "cells": [
  {
   "cell_type": "code",
   "execution_count": 4,
   "metadata": {},
   "outputs": [],
   "source": [
    "import os, sys"
   ]
  },
  {
   "cell_type": "code",
   "execution_count": 2,
   "metadata": {},
   "outputs": [
    {
     "data": {
      "text/plain": [
       "['/c/Users/matth/Documents/Waterloo/Year 1/Student Design Team/aquadrone2020vision/image_data',\n",
       " '/home/matthewgeng/miniconda3/envs/tensorflow/lib/python37.zip',\n",
       " '/home/matthewgeng/miniconda3/envs/tensorflow/lib/python3.7',\n",
       " '/home/matthewgeng/miniconda3/envs/tensorflow/lib/python3.7/lib-dynload',\n",
       " '',\n",
       " '/home/matthewgeng/miniconda3/envs/tensorflow/lib/python3.7/site-packages',\n",
       " '/home/matthewgeng/miniconda3/envs/tensorflow/lib/python3.7/site-packages/IPython/extensions',\n",
       " '/home/matthewgeng/.ipython']"
      ]
     },
     "execution_count": 2,
     "metadata": {},
     "output_type": "execute_result"
    }
   ],
   "source": [
    "sys.path"
   ]
  },
  {
   "cell_type": "code",
   "execution_count": 3,
   "metadata": {},
   "outputs": [
    {
     "name": "stdout",
     "output_type": "stream",
     "text": [
      " 1200_images_combined\r\n",
      " 1200_images_renamed_final\r\n",
      "'1200_images_renamed_final - Copy'\r\n",
      " final_labels_skipped_104_total_1119.csv\r\n",
      " images\r\n",
      " images_exclude_safe\r\n",
      " images_removed_every_other_frame_1000_safe\r\n",
      " load_csv_remove_skipped_files_test.ipynb\r\n",
      " remove_every_other_frame.ipynb\r\n",
      " rename_files.ipynb\r\n",
      " split_video.ipynb\r\n",
      "'video src'\r\n",
      " yolo_labels\r\n"
     ]
    }
   ],
   "source": [
    "!ls"
   ]
  },
  {
   "cell_type": "code",
   "execution_count": 45,
   "metadata": {},
   "outputs": [],
   "source": [
    "directory = \"images_removed_every_other_frame_1000_safe\""
   ]
  },
  {
   "cell_type": "code",
   "execution_count": null,
   "metadata": {},
   "outputs": [],
   "source": [
    "# for dir_name in os.listdir(directory):\n",
    "#     print(dir_name)\n",
    "#     dir_path = os.path.join(directory, dir_name)\n",
    "# #     print(dir_path)\n",
    "#     count = 0\n",
    "#     for file_name in os.listdir(dir_path):\n",
    "#         file_path = os.path.join(dir_path, file_name)\n",
    "# #         print(\"\\t\" + file_path)\n",
    "#         if count % 2 == 1:\n",
    "#             print(\"Removed: {}\".format(file_path))\n",
    "#             os.remove(file_path)\n",
    "\n",
    "#         count +=1"
   ]
  },
  {
   "cell_type": "code",
   "execution_count": 44,
   "metadata": {},
   "outputs": [
    {
     "name": "stdout",
     "output_type": "stream",
     "text": [
      "Removed: images_removed_every_other_frame_1000_safe/exclude_path1/down_log11_Trim_Trim.mp4_10.jpg\n",
      "Removed: images_removed_every_other_frame_1000_safe/exclude_path1/down_log11_Trim_Trim.mp4_14.jpg\n",
      "Removed: images_removed_every_other_frame_1000_safe/exclude_path1/down_log11_Trim_Trim.mp4_18.jpg\n",
      "Removed: images_removed_every_other_frame_1000_safe/exclude_path1/down_log11_Trim_Trim.mp4_21.jpg\n",
      "Removed: images_removed_every_other_frame_1000_safe/exclude_path1/down_log11_Trim_Trim.mp4_25.jpg\n",
      "Removed: images_removed_every_other_frame_1000_safe/exclude_path1/down_log11_Trim_Trim.mp4_29.jpg\n",
      "Removed: images_removed_every_other_frame_1000_safe/exclude_path1/down_log11_Trim_Trim.mp4_32.jpg\n",
      "Removed: images_removed_every_other_frame_1000_safe/exclude_path1/down_log11_Trim_Trim.mp4_36.jpg\n",
      "Removed: images_removed_every_other_frame_1000_safe/exclude_path1/down_log11_Trim_Trim.mp4_5.jpg\n",
      "Removed: images_removed_every_other_frame_1000_safe/exclude_path1/down_log11_Trim_Trim.mp4_9.jpg\n",
      "Removed: images_removed_every_other_frame_1000_safe/exclude_path1/down_log15_2Trim.mp4_11.jpg\n",
      "Removed: images_removed_every_other_frame_1000_safe/exclude_path1/down_log15_2Trim.mp4_15.jpg\n",
      "Removed: images_removed_every_other_frame_1000_safe/exclude_path1/down_log15_2Trim.mp4_19.jpg\n",
      "Removed: images_removed_every_other_frame_1000_safe/exclude_path1/down_log15_2Trim.mp4_22.jpg\n",
      "Removed: images_removed_every_other_frame_1000_safe/exclude_path1/down_log15_2Trim.mp4_26.jpg\n",
      "Removed: images_removed_every_other_frame_1000_safe/exclude_path1/down_log15_2Trim.mp4_3.jpg\n",
      "Removed: images_removed_every_other_frame_1000_safe/exclude_path1/down_log15_2Trim.mp4_7.jpg\n",
      "Removed: images_removed_every_other_frame_1000_safe/exclude_path1/down_log16_3Trim.mp4_1.jpg\n",
      "Removed: images_removed_every_other_frame_1000_safe/exclude_path1/down_log16_3Trim.mp4_13.jpg\n",
      "Removed: images_removed_every_other_frame_1000_safe/exclude_path1/down_log16_3Trim.mp4_17.jpg\n",
      "Removed: images_removed_every_other_frame_1000_safe/exclude_path1/down_log16_3Trim.mp4_20.jpg\n",
      "Removed: images_removed_every_other_frame_1000_safe/exclude_path1/down_log16_3Trim.mp4_24.jpg\n",
      "Removed: images_removed_every_other_frame_1000_safe/exclude_path1/down_log16_3Trim.mp4_28.jpg\n",
      "Removed: images_removed_every_other_frame_1000_safe/exclude_path1/down_log16_3Trim.mp4_31.jpg\n",
      "Removed: images_removed_every_other_frame_1000_safe/exclude_path1/down_log16_3Trim.mp4_35.jpg\n",
      "Removed: images_removed_every_other_frame_1000_safe/exclude_path1/down_log16_3Trim.mp4_39.jpg\n",
      "Removed: images_removed_every_other_frame_1000_safe/exclude_path1/down_log16_3Trim.mp4_42.jpg\n",
      "Removed: images_removed_every_other_frame_1000_safe/exclude_path1/down_log16_3Trim.mp4_46.jpg\n",
      "Removed: images_removed_every_other_frame_1000_safe/exclude_path1/down_log16_3Trim.mp4_5.jpg\n",
      "Removed: images_removed_every_other_frame_1000_safe/exclude_path1/down_log16_3Trim.mp4_6.jpg\n",
      "Removed: images_removed_every_other_frame_1000_safe/exclude_path1/down_log16_4Trim.mp4_0.jpg\n",
      "Removed: images_removed_every_other_frame_1000_safe/exclude_path1/down_log16_4Trim.mp4_4.jpg\n",
      "Removed: images_removed_every_other_frame_1000_safe/exclude_path1/down_log16_8Trim.mp4_10.jpg\n",
      "Removed: images_removed_every_other_frame_1000_safe/exclude_path1/down_log16_8Trim.mp4_14.jpg\n",
      "Removed: images_removed_every_other_frame_1000_safe/exclude_path1/down_log16_8Trim.mp4_18.jpg\n",
      "Removed: images_removed_every_other_frame_1000_safe/exclude_path1/down_log16_8Trim.mp4_21.jpg\n",
      "Removed: images_removed_every_other_frame_1000_safe/exclude_path1/down_log16_8Trim.mp4_25.jpg\n",
      "Removed: images_removed_every_other_frame_1000_safe/exclude_path1/down_log16_8Trim.mp4_29.jpg\n",
      "Removed: images_removed_every_other_frame_1000_safe/exclude_path1/down_log16_8Trim.mp4_6.jpg\n",
      "Removed: images_removed_every_other_frame_1000_safe/exclude_path1/tues_13_Trim.mp4_387.jpg\n",
      "Removed: images_removed_every_other_frame_1000_safe/exclude_path1/tues_13_Trim.mp4_391.jpg\n",
      "Removed: images_removed_every_other_frame_1000_safe/exclude_path1/tues_13_Trim.mp4_395.jpg\n",
      "Removed: images_removed_every_other_frame_1000_safe/exclude_path1/tues_13_Trim.mp4_399.jpg\n",
      "Removed: images_removed_every_other_frame_1000_safe/exclude_path1/tues_13_Trim.mp4_403.jpg\n",
      "Removed: images_removed_every_other_frame_1000_safe/exclude_path1/tues_13_Trim.mp4_407.jpg\n",
      "Removed: images_removed_every_other_frame_1000_safe/exclude_path1/tues_13_Trim.mp4_411.jpg\n",
      "Removed: images_removed_every_other_frame_1000_safe/exclude_path1/tues_13_Trim.mp4_415.jpg\n",
      "Removed: images_removed_every_other_frame_1000_safe/exclude_path1/tues_13_Trim.mp4_419.jpg\n",
      "Removed: images_removed_every_other_frame_1000_safe/exclude_path1/tues_13_Trim.mp4_423.jpg\n",
      "Removed: images_removed_every_other_frame_1000_safe/exclude_path1/tues_13_Trim.mp4_427.jpg\n",
      "Removed: images_removed_every_other_frame_1000_safe/exclude_path1/tues_13_Trim.mp4_431.jpg\n",
      "Removed: images_removed_every_other_frame_1000_safe/exclude_path1/tues_13_Trim.mp4_435.jpg\n",
      "Removed: images_removed_every_other_frame_1000_safe/exclude_path1/tues_13_Trim.mp4_439.jpg\n",
      "Removed: images_removed_every_other_frame_1000_safe/exclude_path1/tues_13_Trim.mp4_443.jpg\n",
      "Removed: images_removed_every_other_frame_1000_safe/exclude_path1/tues_13_Trim.mp4_447.jpg\n",
      "Removed: images_removed_every_other_frame_1000_safe/exclude_path1/tues_7_Trim.mp4_0.jpg\n",
      "Removed: images_removed_every_other_frame_1000_safe/exclude_path1/tues_7_Trim.mp4_12.jpg\n",
      "Removed: images_removed_every_other_frame_1000_safe/exclude_path1/tues_7_Trim.mp4_16.jpg\n",
      "Removed: images_removed_every_other_frame_1000_safe/exclude_path1/tues_7_Trim.mp4_2.jpg\n",
      "Removed: images_removed_every_other_frame_1000_safe/exclude_path1/tues_7_Trim.mp4_23.jpg\n",
      "Removed: images_removed_every_other_frame_1000_safe/exclude_path1/tues_7_Trim.mp4_27.jpg\n",
      "Removed: images_removed_every_other_frame_1000_safe/exclude_path1/tues_7_Trim.mp4_30.jpg\n",
      "Removed: images_removed_every_other_frame_1000_safe/exclude_path1/tues_7_Trim.mp4_34.jpg\n",
      "Removed: images_removed_every_other_frame_1000_safe/exclude_path1/tues_7_Trim.mp4_7.jpg\n"
     ]
    }
   ],
   "source": [
    "# for dir_name in os.listdir(directory):\n",
    "#     print(dir_name)\n",
    "dir_path = os.path.join(directory, \"exclude_path1\")\n",
    "#     print(dir_path)\n",
    "count = 0\n",
    "for file_name in os.listdir(dir_path):\n",
    "    file_path = os.path.join(dir_path, file_name)\n",
    "#         print(\"\\t\" + file_path)\n",
    "    if count % 2 == 1:\n",
    "        print(\"Removed: {}\".format(file_path))\n",
    "        os.remove(file_path)\n",
    "\n",
    "    count +=1"
   ]
  },
  {
   "cell_type": "code",
   "execution_count": null,
   "metadata": {},
   "outputs": [],
   "source": []
  }
 ],
 "metadata": {
  "kernelspec": {
   "display_name": "Python [conda env:tensorflow]",
   "language": "python",
   "name": "conda-env-tensorflow-py"
  },
  "language_info": {
   "codemirror_mode": {
    "name": "ipython",
    "version": 3
   },
   "file_extension": ".py",
   "mimetype": "text/x-python",
   "name": "python",
   "nbconvert_exporter": "python",
   "pygments_lexer": "ipython3",
   "version": "3.7.5"
  }
 },
 "nbformat": 4,
 "nbformat_minor": 2
}
